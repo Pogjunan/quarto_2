{
 "cells": [
  {
   "cell_type": "code",
   "execution_count": null,
   "id": "538ce9de-12e9-402d-a0e9-af4d0fe868f1",
   "metadata": {},
   "outputs": [],
   "source": []
  },
  {
   "cell_type": "code",
   "execution_count": null,
   "id": "5dd605ff-3162-4011-9695-a4a9113acc5f",
   "metadata": {
    "tags": []
   },
   "outputs": [],
   "source": [
    "#모델 직접 설계 (tensorflow)\n",
    "\n",
    "from tensorflow.keras.models import Sequential\n",
    "from tensorflow.keras.layers import Dense\n",
    "\n",
    "import numpy as np\n",
    "import tensorflow as tf\n",
    "\n",
    "tf.random.set_seed(3)\n",
    "\n",
    "# data_set\n",
    "Data_set = np.load(txt(\"....\",deliiter=\",\"))\n",
    "\n",
    "# X = Data_set[:,0:17]\n",
    "# Y = Data_set[:,17]\n"
   ]
  },
  {
   "cell_type": "code",
   "execution_count": null,
   "id": "f7973dfb-0d42-4178-8c8e-8e17ac0f2838",
   "metadata": {},
   "outputs": [],
   "source": [
    "model = Sequential()\n",
    "model.add(Dense(30,inpt_dim=17 , activation='relu'))\n",
    "model.add(Dense(1, activation='sigmoid'))"
   ]
  },
  {
   "cell_type": "markdown",
   "id": "25cb39c9-03ea-4850-ae54-244b9e9898d9",
   "metadata": {},
   "source": [
    "## add 로 새로운 층을 만들고 Dense 함수로 노드의 개수를 30개로 만듭니다.\n",
    "`-` input_dim 으로 변수개수를 만들고 dense 는 은닉층 + 입력층의 역할을 겸합니다. \n",
    "- 현재 30,17 은 17개수의 변수 -> 30개의 변수로 늘리겠다는것입니다."
   ]
  },
  {
   "cell_type": "code",
   "execution_count": null,
   "id": "45fdf2fa-1b59-40e2-b6ad-d51696357da7",
   "metadata": {},
   "outputs": [],
   "source": [
    "model.compile(loss='mean_squared_error',optimizer='adam',metrics=['aaccuracy'])\n",
    "model.fit(X,Y,epochs=100,batch__size=10)"
   ]
  },
  {
   "cell_type": "markdown",
   "id": "4b23b22d-02d2-47d5-8269-3c466662cb3b",
   "metadata": {},
   "source": [
    "metric 함수는 모델이 컴파일될 때 모델 수행 결과 나타나게끔 설정하는 부분입니다."
   ]
  },
  {
   "cell_type": "markdown",
   "id": "e7e6baad-a932-4ac1-805c-dc7682e76171",
   "metadata": {},
   "source": [
    "## 교차엔트로피"
   ]
  },
  {
   "cell_type": "markdown",
   "id": "95d91e25-6331-415e-bd79-bea5eaa745b1",
   "metadata": {
    "tags": []
   },
   "source": [
    "- 분류문제에서 많이 사용되며 이항인 경우 binary cross entropy 사용"
   ]
  },
  {
   "cell_type": "code",
   "execution_count": 3,
   "id": "a7b3d2b2-9162-4c21-92a1-1ebce7c901d9",
   "metadata": {
    "tags": []
   },
   "outputs": [],
   "source": [
    "## 이후 쉬운  딥러닝 예시 나왔습니다."
   ]
  },
  {
   "cell_type": "code",
   "execution_count": null,
   "id": "ff3987e0-1702-4b98-9f38-bf6e2a3e844e",
   "metadata": {},
   "outputs": [],
   "source": []
  }
 ],
 "metadata": {
  "kernelspec": {
   "display_name": "Python (hf)",
   "language": "python",
   "name": "hf"
  },
  "language_info": {
   "codemirror_mode": {
    "name": "ipython",
    "version": 3
   },
   "file_extension": ".py",
   "mimetype": "text/x-python",
   "name": "python",
   "nbconvert_exporter": "python",
   "pygments_lexer": "ipython3",
   "version": "3.10.13"
  }
 },
 "nbformat": 4,
 "nbformat_minor": 5
}
