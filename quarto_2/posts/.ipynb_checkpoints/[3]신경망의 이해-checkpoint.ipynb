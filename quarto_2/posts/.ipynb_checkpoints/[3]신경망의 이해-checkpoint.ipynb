{
 "cells": [
  {
   "cell_type": "markdown",
   "id": "eda69772-cdfd-480f-893a-265a446b7643",
   "metadata": {},
   "source": [
    "# `-` 퍼셉트론"
   ]
  },
  {
   "cell_type": "markdown",
   "id": "b75454a4-0492-49e3-9fb9-22f52c7306ea",
   "metadata": {
    "tags": []
   },
   "source": [
    "- 신경망의 기본단위"
   ]
  },
  {
   "cell_type": "markdown",
   "id": "a54ab532-78e6-4cbb-8b4c-09fbe150301f",
   "metadata": {},
   "source": [
    "`-` In deeplearning\n",
    "- $ y = ax + $<span style=\"color:red; font-weight:bold;\">$b$</span>\n",
    "\n",
    "=> $y =$ <span style=\"color:red;\">$w$</span>x + <span style=\"color:red;\">$b$</span>\n",
    "\n",
    "<br> 가중치 = $w$\n",
    "<br> 바이어스 = $bias$\n",
    "<br> 가중합 = $wx$\n",
    "<br> 활성화함수 = $a$"
   ]
  },
  {
   "cell_type": "markdown",
   "id": "f1c3e4cc-2a8d-4074-b51c-0a925e384209",
   "metadata": {},
   "source": [
    " # 다층 퍼셉트론의 설계"
   ]
  },
  {
   "cell_type": "markdown",
   "id": "1bd5426c-9285-479c-8361-eae27fb3136d",
   "metadata": {},
   "source": [
    "$ n_1= \\sigma (x_1w_{_{11}} + x_2w_{_{21}} + b_1) $\n"
   ]
  },
  {
   "cell_type": "markdown",
   "id": "9e4330a4-686b-423a-8e1c-b922de42f9e7",
   "metadata": {
    "tags": []
   },
   "source": [
    "- $n_1$ 은 하나의 은닉층내의퍼셉트론의 값입니다.\n"
   ]
  },
  {
   "cell_type": "markdown",
   "id": "261c56d5-21c4-4e40-9799-d4a2fce2aa2a",
   "metadata": {
    "tags": []
   },
   "source": [
    "$ n_2= \\sigma (x_1w_{_{12}} + x_2w_{_{22}} + b_1) $\n"
   ]
  },
  {
   "cell_type": "markdown",
   "id": "09762f1d-81d1-4cf9-bda5-bc98e3cd05e2",
   "metadata": {
    "tags": []
   },
   "source": [
    "$y_{out} =\\sigma (n_1w_{_{31}} + x_2w_{_{32}} + b_3) $"
   ]
  },
  {
   "cell_type": "code",
   "execution_count": 5,
   "id": "97b4d1a3-3cbb-4c7f-a520-3b91513d03b1",
   "metadata": {
    "tags": []
   },
   "outputs": [],
   "source": [
    "# W(1) 은 2x2 행렬로 볼수있다."
   ]
  },
  {
   "cell_type": "markdown",
   "id": "e4f074b4-7687-4a6b-b152-ceeeb6252f36",
   "metadata": {
    "tags": []
   },
   "source": [
    "W_1 = [[w_11 ,w_12] ,[w_21,w_22]]\n",
    "<br>\n",
    "W_2 = [[w_31],[w_32]]\n",
    "<br>\n",
    "b(1) = [[3],[1]]\n",
    "<br>\n",
    "b(2) = [-1]\n",
    "\n"
   ]
  },
  {
   "cell_type": "code",
   "execution_count": 9,
   "id": "c36bc398-800d-4bcf-83e6-0cca697f202c",
   "metadata": {
    "tags": []
   },
   "outputs": [],
   "source": [
    "# 역전파는 생략 -> 그냥 전미분으로 반대쪽으로 가면서 연쇄법칙으로 계산 용이"
   ]
  },
  {
   "cell_type": "markdown",
   "id": "9c12e217-a771-4fa9-8913-15480ca4d761",
   "metadata": {},
   "source": [
    "## `-` 기울기 소실 문제\n",
    "\n",
    "<br>\n",
    "#### 역전파가 전달될때마다 기울기의 값이 점점 작아져서 기울기 소실 발생(vanishing gradient)\n",
    "\n",
    "- 이유 : sigmoid 의 미분 값이 0.3이 max\n",
    "- 시그모이드, 하이퍼볼릭,렐루,소프트멕스가 이쓴데 렐룰를 쓰면 미분값이 1이되어 맨 처음층이 살아남을 수 있어서 사용됩니다."
   ]
  },
  {
   "cell_type": "markdown",
   "id": "a68876b9-1c38-4d6a-bcda-d32cfc96cf6d",
   "metadata": {
    "tags": []
   },
   "source": [
    "`-` 다른 경사하강법문제\n",
    "-확률적 경사 하강법 SGD , 모멘텀 , 네스테로프 모멘텀 , 아다그라드 , RMSProp, 아담 등은 다음에 다루겠습니다."
   ]
  },
  {
   "cell_type": "code",
   "execution_count": null,
   "id": "30436761-1545-464d-959e-47d1701242df",
   "metadata": {},
   "outputs": [],
   "source": []
  }
 ],
 "metadata": {
  "kernelspec": {
   "display_name": "Python (hf)",
   "language": "python",
   "name": "hf"
  },
  "language_info": {
   "codemirror_mode": {
    "name": "ipython",
    "version": 3
   },
   "file_extension": ".py",
   "mimetype": "text/x-python",
   "name": "python",
   "nbconvert_exporter": "python",
   "pygments_lexer": "ipython3",
   "version": "3.10.13"
  }
 },
 "nbformat": 4,
 "nbformat_minor": 5
}
