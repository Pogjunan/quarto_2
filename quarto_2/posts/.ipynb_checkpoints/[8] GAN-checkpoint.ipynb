{
 "cells": [
  {
   "cell_type": "markdown",
   "id": "874a9772-2ddc-48d9-b010-afaf8241af47",
   "metadata": {},
   "source": [
    "# `[8] GAN`"
   ]
  },
  {
   "cell_type": "markdown",
   "id": "93a11c08-8f47-46ce-a5fd-ef926aaad61a",
   "metadata": {
    "tags": []
   },
   "source": [
    "`-` CNN 과 RNN 후에 많은 연습할 알고리즘이 있지만 이 책에서는 CRNN 만 다루고 있고 이미 다뤄본 알고리즘이라 바로 GAN 만 다루고 끝내겠습니다. <br>\n",
    "`-` 무엇보다 가볍게 다루기 때문에 가볍게 보고 지나치겠습니다."
   ]
  },
  {
   "cell_type": "markdown",
   "id": "cd438444-4fea-4d68-993b-a5a9ac1a03e3",
   "metadata": {},
   "source": [
    "## `GAN 오토인코더`\n",
    "- 현재 사진을 합성하는 기술로 존재하지 않는 사람을 그럴 듯 하게 만들 수 있는 기술\n",
    "- GAN = 생성적 적대 신경망 `( Generative Adversarial Networks)` ([간])\n",
    "- 매번 듣는 것 : 경찰과 도둑"
   ]
  },
  {
   "cell_type": "markdown",
   "id": "bc3a48e9-3509-4a7f-bfff-68bfc6caf48d",
   "metadata": {
    "tags": []
   },
   "source": [
    "`[1] 생성자`: 가상의 이미지로 공장을 만듭니다.\n",
    "- 1.DCGAN 은 생성자가 가짜 이미지를 만들 때 CNN 을 이용 (앞에서 배운 CNN 과 원리가 다른 것이 optimizer 를 사용하는 최적화 과정과 컴파일 과정 이 존재 x, 그리고 풀링과정도 없지만 패딩이 존재 => 입력과 출력을 맞춰주기 위해)\n",
    "- 2. 패딩으로 진짜와 똑같은 크기를 만들수 있다. ( keras 에서는 padding = 'same' 설정이 가능)\n",
    "- 3. 배치정규화(Batch Normalization) 과정 : 데이터의 평균이 0 , 분산이 1이 되도록 재배치하기. 층의 개수가 늘어나도 안정적인 학습 가능 (`In keras` : `BatchNormalization()` )\n",
    "- 4. ReLU() 함수로 판별자 넘겨주기. tanh()로 판별자 전 -1~1 사이로 크기 맞춰주기\n"
   ]
  },
  {
   "cell_type": "markdown",
   "id": "972df838-14ff-476b-9402-372c2ba187a2",
   "metadata": {},
   "source": [
    ">"
   ]
  },
  {
   "cell_type": "markdown",
   "id": "9d996aca-31a1-4589-be65-61c9b22f04e7",
   "metadata": {
    "tags": []
   },
   "source": [
    "<br>"
   ]
  },
  {
   "cell_type": "markdown",
   "id": "fb4a961a-e15e-4274-aa35-03364d1d1e11",
   "metadata": {},
   "source": [
    "# `MNIST 의 예시 GAN`"
   ]
  },
  {
   "cell_type": "markdown",
   "id": "297d77ad-a0cd-48eb-a74b-99fac0f701e7",
   "metadata": {
    "tags": []
   },
   "source": [
    "# [1] `생성자 생성함수`\n",
    "```python\n",
    "generator = Sequential()\n",
    "generator.add(Dense(128*7*7 , input_dim=100 , activation=LeakyReLU(0.2)))\n",
    "generator.add(BatchNormalization())\n",
    "generator.add(Reshape((7,7,128)))\n",
    "generator.add(UpSampling2D()) # ...(1)\n",
    "generator.add(Conv2D(64,kernel_size=5,padding='same'))\n",
    "generator.add(BatchNormalization())\n",
    "generator.add(Activation(LeakyReLU(0.2)))\n",
    "generator.add(UpSampling2D()) # ...(2)\n",
    "generator.add(Conv2D(1, kernel_size=5,padding='same',activation='tanh'))\n",
    "```"
   ]
  },
  {
   "cell_type": "markdown",
   "id": "fccc8a9b-0ba6-45fd-b2bb-172055d2cec6",
   "metadata": {},
   "source": [
    "1. \n",
    "---\n",
    "```python\n",
    "generator.add(Dense(128*7*7 , input_dim=100 , activation=LeakyReLU(0.2)))\n",
    "```\n",
    "---\n",
    "\n",
    "128 은 임의의 노드 숫자 : 굳이 128 이 아니여도 됩니다.\n",
    "<br>\n",
    "input_dim = 100 도 적절한 숫자 넣으면됩니다.\n",
    ">\n",
    "---\n",
    "**`7*7`** : 이미지의 최소 크기를 의미 , MNIST 의 이미지는 `28*28` 인데 왜 최소크기 `7*7` 일까요 ?\n",
    "-> 그 이유는 위의 (1) 과 (2) 의 UpSampling 때문입니다. UpSampling 은 이미지를 가로,세로로 2배씩 늘려줍니다. 그래서 `7*7` => `14*14` => `28*28` 이 됩니다. \n",
    "\n",
    "---\n",
    "### `계속된 UpSampling` 사이에 `CNN` 을 적용시키는 작업을 하는 것이 `DCGAN` 의 특징입니다."
   ]
  },
  {
   "cell_type": "markdown",
   "id": "fd39e246-83ef-4f41-817b-df23aa486f85",
   "metadata": {},
   "source": [
    ">"
   ]
  },
  {
   "cell_type": "markdown",
   "id": "1ba539df-3d6d-4d33-b28f-849e5ddb0d56",
   "metadata": {
    "tags": []
   },
   "source": [
    "2. \n",
    "---\n",
    "```python\n",
    "generator.add(Reshape((7,7,128)))\n",
    "```\n",
    "- Convoultion layer 가 받아들일 수 있도록 형태를 정해줍니다.\n",
    "\n",
    "<br>\n",
    "\n",
    "## 3. \n",
    "\n",
    "```python\n",
    "generator.add(UpSampling2D()) # ...(1)\n",
    "generator.add(Conv2D(64,kernel_size=5,padding='same'))\n",
    "```\n",
    "<br>\n",
    "5x5 커널을 사용하였고 padding 을 자동으로 조절하여 크기에 변화가 없도록 처리하였습니다.\n",
    "\n",
    ">\n",
    "이 후 3x3 커널도 같은 작업으로 크기를 조절하였습니다."
   ]
  },
  {
   "cell_type": "markdown",
   "id": "015ae271-c283-4b89-95e3-fa57c4d3055d",
   "metadata": {
    "tags": []
   },
   "source": [
    "4. \n",
    "---\n",
    "```python\n",
    "generator.add(Dense(128*7*7 , input_dim=100 , activation=LeakyReLU(0.2))) \n",
    "generator.add(Activation(LeakyReLU(0.2)))\n",
    "```\n",
    ">\n",
    "\n",
    "- LeakyReLU 의 형태를 보면 \n",
    "![이미지가깨졌습니다.](data:image/jpeg;base64,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)\n",
    "\n",
    "로 x 값이 음수일 때 무조건 0 이 되어 뉴런이 일찍 소실되는 단점을 보완하였습니다. 0.2 는 0보다 작을경우 0.2 를 곱하라는 의미입니다."
   ]
  },
  {
   "cell_type": "markdown",
   "id": "b43dc45c-e714-41d6-99d0-19d651da768b",
   "metadata": {},
   "source": [
    "# [2] `판별자 ,진위를 가려내는 장치`\n",
    "\n",
    "- CNN (컨볼루젼 신경망) 은 구별에 최적화된 알고리즘입니다. 목적 그대로 사용합니다. 진짜 = 1 ,가짜 = 0\n",
    "- 이전 장에서 배운 compile 내부의 binary_crossentropy ,adam , Dropout(0.3) ,batch_normalization , padding 등 모두 넣습니다.\n",
    "<br>\n",
    "\n",
    "### `-` [2] **`판별자`** 의 진심 : 진짜인지 가짜인지 판별만해줄 뿐 자신이 학습을 하면 안된다!\n",
    "<br>\n",
    "\n",
    "- `판별자`가 얻은 가중치는 다시 생성자에게 넘겨주어 `생성자`가 `업데이트된 이미지 만들도록 해야함.`\n",
    "  - 따라서 `판별자`를 만들 때 `가중치를 저장`하는 `학습기능 끄기`"
   ]
  },
  {
   "cell_type": "markdown",
   "id": "7bd1b0b0-253c-4977-a42e-79450237a8a5",
   "metadata": {},
   "source": [
    "# `판별자`의 코드\n",
    "```python\n",
    "discriminator = Sequential()\n",
    "discriminator.add(Conv2D(64,kernel_size=5,strides=2,input_shape=(28,28,1),padding='same'))\n",
    "discriminator.add(Activation(LeakyReLU(0.2)))\n",
    "discriminator.add(Dropout(0.3))\n",
    "discriminator.add(Conv2D(128,kernel_size=5,strides=2,padding='same'))\n",
    "discriminator.add(Activation(LeakyReLU(0.2)))\n",
    "discriminator.add(Dropout(0.3))\n",
    "discriminator.add(Flatten())\n",
    "discriminator.add(Dense(1,activation='sigmoid'))\n",
    "discriminator.compile(loss='binary_crossentropy',optimizer='adam')\n",
    "discriminator.trainable=False\n",
    "```"
   ]
  },
  {
   "cell_type": "markdown",
   "id": "db7a7a97-e306-42f6-ac83-9676eec6d599",
   "metadata": {},
   "source": [
    ">"
   ]
  },
  {
   "cell_type": "markdown",
   "id": "1e722f75-7410-46cf-b371-b41870b7dfea",
   "metadata": {},
   "source": [
    "[해석]\n",
    "- 간단히 64 개의 node 에서 128 개의 node 로 높였고 그 사이사이 알고있는 코드가 등장했습니다.\n",
    "- Flatten 으로 노드들을 폈고 Dense 1 로 fullyconnected 를 받았습니다. sigmoid 로 확률로 바꾸었고\n",
    "- 판별자가 train 을 하지않고 결과를 계산한다고 했습니다."
   ]
  },
  {
   "cell_type": "markdown",
   "id": "f3b51e50-1506-4e6b-aedc-ef3e2eef752f",
   "metadata": {},
   "source": [
    ">"
   ]
  },
  {
   "cell_type": "markdown",
   "id": "66f6db3b-3279-48e6-aa3e-d8c938ad3c83",
   "metadata": {
    "tags": []
   },
   "source": [
    "<br>"
   ]
  },
  {
   "cell_type": "code",
   "execution_count": null,
   "id": "f9d5187a-3f7a-4e0d-8fa1-8b34f8137369",
   "metadata": {},
   "outputs": [],
   "source": []
  },
  {
   "cell_type": "code",
   "execution_count": null,
   "id": "d95a722b-c111-4077-9fb2-960ba93f3e34",
   "metadata": {},
   "outputs": [],
   "source": []
  },
  {
   "cell_type": "code",
   "execution_count": null,
   "id": "a95388a2-8eef-4cf0-bb6c-c8862e4f29b4",
   "metadata": {},
   "outputs": [],
   "source": []
  },
  {
   "cell_type": "code",
   "execution_count": null,
   "id": "fb59a63a-957d-4c78-bf8a-7be20b2bac8d",
   "metadata": {},
   "outputs": [],
   "source": []
  },
  {
   "cell_type": "code",
   "execution_count": null,
   "id": "6dc1fc3c-1ab4-47aa-82cc-3d823eaaa8cc",
   "metadata": {},
   "outputs": [],
   "source": []
  }
 ],
 "metadata": {
  "kernelspec": {
   "display_name": "Python (hf)",
   "language": "python",
   "name": "hf"
  },
  "language_info": {
   "codemirror_mode": {
    "name": "ipython",
    "version": 3
   },
   "file_extension": ".py",
   "mimetype": "text/x-python",
   "name": "python",
   "nbconvert_exporter": "python",
   "pygments_lexer": "ipython3",
   "version": "3.10.13"
  }
 },
 "nbformat": 4,
 "nbformat_minor": 5
}
