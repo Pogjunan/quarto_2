{
 "cells": [
  {
   "cell_type": "code",
   "execution_count": 1,
   "id": "016576b5-2fcd-4ddd-9d1d-c941ce00eabe",
   "metadata": {
    "tags": []
   },
   "outputs": [],
   "source": [
    "# CNN"
   ]
  },
  {
   "cell_type": "code",
   "execution_count": null,
   "id": "eb6a25b0-a839-4e49-9d7c-c29ec04c1da2",
   "metadata": {},
   "outputs": [],
   "source": [
    "model.add((Conv2D(32, kernel_size=(3,3), input_shape=(28,28,1),activation='relu'))\n",
    "          #input_shape = 행,열,색상\n",
    "model.add((Conv2D(64,(3,3), activation='relu'))\n",
    "        # 필터개수를 32개로 받아서 64개로 실시."
   ]
  },
  {
   "cell_type": "markdown",
   "id": "b21d56a7-2a57-43b1-881a-b5cb3a4f9801",
   "metadata": {
    "tags": []
   },
   "source": [
    "## 맥스풀링\n",
    "`-` MaxPooling2d() <br>\n",
    "  - model.add(MaxPooling2d(pool_size=2)) # 2x2 로 겹치지않게 나누어서 그중 가장 큰 숫자추출\n",
    "  - 전체크기가 절반으로 줄어듭니다."
   ]
  },
  {
   "cell_type": "markdown",
   "id": "278b9478-fd0e-4ab0-a92c-4247385a784b",
   "metadata": {
    "tags": []
   },
   "source": [
    "# 정리 - CNN"
   ]
  },
  {
   "cell_type": "markdown",
   "id": "8bad3725-d6d6-494f-bf26-337e577ddd80",
   "metadata": {},
   "source": [
    "### [예시]\n",
    "$ X_1 , .... X_n $ (784개 속성) <br>\n",
    "$ X_1= $ (28x28x1) <br>\n",
    "$ Y _{h1} convolution (32개 필터 , 3x3)$ => 26x26x32 <br>\n",
    "$ Y _{h2} convolution (64개 필터 , 3x3)$ => 24x24x64 <br>\n",
    "$ Y _{max-pooling} (Poolsize:2) $ => 12x12x64 <br>\n",
    "$ Y h1 $ => 512개 노드 # 12*12*64 = 9216 차원의 벡터가나왔고 512개의 노드로 고정시켰다는 의미입니다. <br>\n",
    "$ Y_0 $ => 10개 출력 + softmax => 10개 차원으로 축소 + softmax 로 확률을 정함 <br>\n",
    "\n",
    "\n",
    "\n"
   ]
  },
  {
   "cell_type": "markdown",
   "id": "5b361037-fb7b-4159-8097-c33e1cb2cf2a",
   "metadata": {
    "tags": []
   },
   "source": [
    "[과적합 피하기위한 노력]\n",
    "---\n",
    "`-` 드랍아웃 (dropout)\n",
    "- 역전파 순전파 게속하면 당연히 수렴을 통해 overfitting 이 예상됩니다.\n",
    " - 이에 드랍아웃으로 랜덤한 노드를 퍼센트로 꺼서 overfitting 을 방지합니다."
   ]
  },
  {
   "cell_type": "code",
   "execution_count": null,
   "id": "45147e9c-d8e8-47d2-a817-be01fae5b320",
   "metadata": {},
   "outputs": [],
   "source": []
  }
 ],
 "metadata": {
  "kernelspec": {
   "display_name": "Python (hf)",
   "language": "python",
   "name": "hf"
  },
  "language_info": {
   "codemirror_mode": {
    "name": "ipython",
    "version": 3
   },
   "file_extension": ".py",
   "mimetype": "text/x-python",
   "name": "python",
   "nbconvert_exporter": "python",
   "pygments_lexer": "ipython3",
   "version": "3.10.13"
  }
 },
 "nbformat": 4,
 "nbformat_minor": 5
}
