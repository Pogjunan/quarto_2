{
 "cells": [
  {
   "cell_type": "markdown",
   "id": "4b5c622e-91d2-45d3-ac56-9e1ac4aa4f60",
   "metadata": {},
   "source": [
    "# 자연어 처리 연습"
   ]
  },
  {
   "cell_type": "markdown",
   "id": "8e7d6e0f-915c-4b59-921c-1fd5ea7ea7b9",
   "metadata": {
    "tags": []
   },
   "source": [
    "### [순서]\n",
    "1. 토큰화 <br>\n",
    "2. 원핫인코딩(보통 많이사용) <br>\n",
    "3. 단어임베딩 # 중요\n",
    "4. 각자 필요한 EDA 시작"
   ]
  },
  {
   "cell_type": "markdown",
   "id": "3958b202-2733-463f-9cda-9470afa9634c",
   "metadata": {
    "tags": []
   },
   "source": [
    "### 가벼운 영화 리뷰 긍정,부정적 예측"
   ]
  },
  {
   "cell_type": "markdown",
   "id": "bc8b0157-b783-4e70-8604-58fc3b7fc816",
   "metadata": {},
   "source": [
    "1. Import"
   ]
  },
  {
   "cell_type": "code",
   "execution_count": 5,
   "id": "aaad4289-61a8-4dd9-a016-a17c66162fd4",
   "metadata": {
    "tags": []
   },
   "outputs": [],
   "source": [
    "import numpy \n",
    "import tensorflow as tf\n",
    "from numpy import array\n",
    "from tensorflow.keras.preprocessing.text import Tokenizer\n",
    "from tensorflow.keras.preprocessing.sequence import pad_sequences\n",
    "from tensorflow.keras.models import Sequential\n",
    "from tensorflow.keras.layers import Dense,Flatten,Embedding"
   ]
  },
  {
   "cell_type": "code",
   "execution_count": 6,
   "id": "5a27089b-54f4-4cc2-8a1a-47f0784933ee",
   "metadata": {},
   "outputs": [
    {
     "name": "stdout",
     "output_type": "stream",
     "text": [
      "{'너무': 1, '재밌네요': 2, '최고예요': 3, '참': 4, '잘': 5, '만든': 6, '영화예요': 7, '추천하고': 8, '싶은': 9, '영화입니다': 10, '한번': 11, '더': 12, '보고싶네요': 13, '글쎄요': 14, '별로예요': 15, '생각보다': 16, '지루하네요': 17, '연기가': 18, '어색해요': 19, '재미없어요': 20}\n"
     ]
    }
   ],
   "source": [
    "docs = ['너무 재밌네요','최고예요','참 잘 만든 영화예요','추천하고 싶은 영화입니다.','한번 더 보고싶네요',' 글쎄요', \\\n",
    "        '별로예요','생각보다 지루하네요','연기가 어색해요.','재미없어요']\n",
    "# 긍정=1, 부정=0\n",
    "classes = array([1,1,1,1,1,0,0,0,0,0])\n",
    "\n",
    "#토큰화\n",
    "token=Tokenizer()\n",
    "token.fit_on_texts(docs)\n",
    "print(token.word_index)"
   ]
  },
  {
   "cell_type": "code",
   "execution_count": 13,
   "id": "33ac822c-bda9-4d76-9ab0-88ffc75e405c",
   "metadata": {
    "tags": []
   },
   "outputs": [
    {
     "name": "stdout",
     "output_type": "stream",
     "text": [
      "[[1, 2], [3], [4, 5, 6, 7], [8, 9, 10], [11, 12, 13], [14], [15], [16, 17], [18, 19], [20]]\n",
      "[[ 0  0  1  2]\n",
      " [ 0  0  0  3]\n",
      " [ 4  5  6  7]\n",
      " [ 0  8  9 10]\n",
      " [ 0 11 12 13]\n",
      " [ 0  0  0 14]\n",
      " [ 0  0  0 15]\n",
      " [ 0  0 16 17]\n",
      " [ 0  0 18 19]\n",
      " [ 0  0  0 20]]\n"
     ]
    }
   ],
   "source": [
    "#패딩 , 서로 다른 길이를 4로 맞추기\n",
    "x = token.texts_to_sequences(docs) #keras 제공의 토큰만으로 채워진 인덱스 배열\n",
    "print(x)\n",
    "padded_x = pad_sequences(x,4)\n",
    "print(padded_x)"
   ]
  },
  {
   "cell_type": "code",
   "execution_count": 20,
   "id": "97dd65bf-a235-4dda-97b4-6a9f425d4560",
   "metadata": {
    "tags": []
   },
   "outputs": [
    {
     "data": {
      "text/plain": [
       "[[1, 2],\n",
       " [3],\n",
       " [4, 5, 6, 7],\n",
       " [8, 9, 10],\n",
       " [11, 12, 13],\n",
       " [14],\n",
       " [15],\n",
       " [16, 17],\n",
       " [18, 19],\n",
       " [20]]"
      ]
     },
     "execution_count": 20,
     "metadata": {},
     "output_type": "execute_result"
    }
   ],
   "source": [
    "x"
   ]
  },
  {
   "cell_type": "code",
   "execution_count": 23,
   "id": "30fa08cb-8350-4fe0-a03b-8289efdee4cc",
   "metadata": {
    "tags": []
   },
   "outputs": [],
   "source": [
    "# 임베딩 입력 단어 수 지정\n",
    "word_size = len(token.word_index)+1\n",
    "\n",
    "from keras.utils import to_categorical\n",
    "\n",
    "#x = to_categorical(x,num_classes=word_size)\n",
    "#print(x) => 맨 앞에 0 추가되어 단어 수 보다 1 이 더 많게 인덱스 숫자 잡아줌."
   ]
  },
  {
   "cell_type": "code",
   "execution_count": 24,
   "id": "92f1d328-d328-4508-af20-9da33cba4ab2",
   "metadata": {
    "tags": []
   },
   "outputs": [
    {
     "name": "stdout",
     "output_type": "stream",
     "text": [
      "Epoch 1/20\n",
      "1/1 [==============================] - 0s 325ms/step - loss: 0.6873 - accuracy: 0.7000\n",
      "Epoch 2/20\n",
      "1/1 [==============================] - 0s 3ms/step - loss: 0.6852 - accuracy: 0.7000\n",
      "Epoch 3/20\n",
      "1/1 [==============================] - 0s 2ms/step - loss: 0.6830 - accuracy: 0.7000\n",
      "Epoch 4/20\n",
      "1/1 [==============================] - 0s 3ms/step - loss: 0.6808 - accuracy: 0.8000\n",
      "Epoch 5/20\n",
      "1/1 [==============================] - 0s 3ms/step - loss: 0.6786 - accuracy: 0.8000\n",
      "Epoch 6/20\n",
      "1/1 [==============================] - 0s 3ms/step - loss: 0.6765 - accuracy: 0.8000\n",
      "Epoch 7/20\n",
      "1/1 [==============================] - 0s 3ms/step - loss: 0.6743 - accuracy: 0.8000\n",
      "Epoch 8/20\n",
      "1/1 [==============================] - 0s 2ms/step - loss: 0.6721 - accuracy: 0.8000\n",
      "Epoch 9/20\n",
      "1/1 [==============================] - 0s 3ms/step - loss: 0.6699 - accuracy: 0.9000\n",
      "Epoch 10/20\n",
      "1/1 [==============================] - 0s 2ms/step - loss: 0.6677 - accuracy: 0.9000\n",
      "Epoch 11/20\n",
      "1/1 [==============================] - 0s 3ms/step - loss: 0.6655 - accuracy: 1.0000\n",
      "Epoch 12/20\n",
      "1/1 [==============================] - 0s 3ms/step - loss: 0.6633 - accuracy: 1.0000\n",
      "Epoch 13/20\n",
      "1/1 [==============================] - 0s 3ms/step - loss: 0.6611 - accuracy: 1.0000\n",
      "Epoch 14/20\n",
      "1/1 [==============================] - 0s 3ms/step - loss: 0.6589 - accuracy: 1.0000\n",
      "Epoch 15/20\n",
      "1/1 [==============================] - 0s 3ms/step - loss: 0.6567 - accuracy: 1.0000\n",
      "Epoch 16/20\n",
      "1/1 [==============================] - 0s 3ms/step - loss: 0.6545 - accuracy: 1.0000\n",
      "Epoch 17/20\n",
      "1/1 [==============================] - 0s 2ms/step - loss: 0.6522 - accuracy: 1.0000\n",
      "Epoch 18/20\n",
      "1/1 [==============================] - 0s 3ms/step - loss: 0.6499 - accuracy: 1.0000\n",
      "Epoch 19/20\n",
      "1/1 [==============================] - 0s 3ms/step - loss: 0.6477 - accuracy: 1.0000\n",
      "Epoch 20/20\n",
      "1/1 [==============================] - 0s 3ms/step - loss: 0.6454 - accuracy: 1.0000\n",
      "1/1 [==============================] - 0s 80ms/step - loss: 0.6431 - accuracy: 1.0000\n",
      "\n",
      " Accuracy: 1.0000\n"
     ]
    }
   ],
   "source": [
    "#단어 임베딩 포함한 딥러닝 모델 만들기 - tensorflow\n",
    "model = Sequential()\n",
    "model.add(Embedding(word_size,8,input_length=4)) #단어임베딩\n",
    "model.add(Flatten())\n",
    "model.add(Dense(1,activation='sigmoid'))\n",
    "model.compile(optimizer='adam', loss='binary_crossentropy',\n",
    "              metrics=['accuracy'])\n",
    "model.fit(padded_x,classes,epochs=20)\n",
    "\n",
    "print(\"\\n Accuracy: %.4f\" % (model.evaluate(padded_x,classes)[1]))"
   ]
  },
  {
   "cell_type": "markdown",
   "id": "417dae78-bfcc-432d-bf45-09e065933b4e",
   "metadata": {
    "tags": []
   },
   "source": [
    "[해석]\n",
    "- 단어 임베딩 : 16차원의 벡터를 4차원의 벡터로 바꾼 것.\n",
    "  - 단어간의 유사도를 통해 밀집된 정보로 공간 정보를 줄임.\n",
    "  - 오차역전파를 이용하여 최적의 유사도 계산과정 거침. \n",
    "  - keras 의 Embedding 함수 이용 (입력과 출력 크기를 결정)\n",
    "- 패딩 : 길이를 똑같이 맞춰주는 작업\n",
    "  - [3] 과 [4,5,6,7] 은 길이가 달라서 학습이 안되어 맞추어주어야한다.\n",
    "  - keras 의 pad_sequence() 함수로 원하는 길이보다 짧은 부분은 숫자 0 을 채우고 길면 잘라서 길이 맞춥니다.\n",
    "  \n",
    "- word_size = len(token.word_index) +1\n",
    "  -  word_size 는 인덱스가 몇 개 입력되어야하는지를 정합니다.\n",
    "  - 1번째 단어 -> 0 번 , 2번째 단어 -> 1번 ... 따라서 +1 로 길이를 (n-1)+1 = n 으로 맞출 수 있습니다.\n",
    "  "
   ]
  },
  {
   "cell_type": "code",
   "execution_count": null,
   "id": "7e2f5a2d-3daf-4430-a4b2-060e30c6f8a6",
   "metadata": {},
   "outputs": [],
   "source": []
  }
 ],
 "metadata": {
  "kernelspec": {
   "display_name": "Python (hf)",
   "language": "python",
   "name": "hf"
  },
  "language_info": {
   "codemirror_mode": {
    "name": "ipython",
    "version": 3
   },
   "file_extension": ".py",
   "mimetype": "text/x-python",
   "name": "python",
   "nbconvert_exporter": "python",
   "pygments_lexer": "ipython3",
   "version": "3.10.13"
  }
 },
 "nbformat": 4,
 "nbformat_minor": 5
}
