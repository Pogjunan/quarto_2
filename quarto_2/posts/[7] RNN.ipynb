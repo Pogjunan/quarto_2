{
 "cells": [
  {
   "cell_type": "markdown",
   "id": "97624b10-5f9c-4dfd-ad9d-94e17107332f",
   "metadata": {},
   "source": [
    "# RNN (순환신경망) \n",
    "- 이전의 입력의 변수를 계속 사용한다는 것에 의미가 존재 ( 시퀀스에 유리)\n",
    "- RNN 은 잦은 개선으로 LSTM 의 등장\n",
    "\n",
    "## LSTM (Long Short Term Memory)\n",
    "- RNN 내부의 구조도 개선한 방식\n",
    "- 기초 RNN 구조의 기울기 소실 문제를 보완한 방법으로 반복 직전의 다음 층으로 기억된 값을 넘길지 안 넘길지 관리하는 단계를 추가한 방법"
   ]
  },
  {
   "cell_type": "markdown",
   "id": "c67ef1ce-460e-4322-8bd8-ec1643cf508e",
   "metadata": {},
   "source": [
    ">"
   ]
  },
  {
   "cell_type": "markdown",
   "id": "0303357d-5fdd-4eda-a8c3-dd8b82012e0d",
   "metadata": {},
   "source": [
    "### `[1]` LSTM 카테고리 분류하기"
   ]
  },
  {
   "cell_type": "markdown",
   "id": "47bcd23d-b310-4ac8-a9e1-48878b98b380",
   "metadata": {
    "tags": []
   },
   "source": [
    "`1 Import `"
   ]
  },
  {
   "cell_type": "code",
   "execution_count": 4,
   "id": "1e87d717-a83d-4d99-b2ad-abde63f7b458",
   "metadata": {
    "tags": []
   },
   "outputs": [],
   "source": [
    "from keras.datasets import reuters\n",
    "from keras.models import Sequential\n",
    "from keras.layers import Dense,LSTM,Embedding\n",
    "from keras.preprocessing import sequence"
   ]
  },
  {
   "cell_type": "code",
   "execution_count": 6,
   "id": "827cc334-823f-4d9d-a751-57dfb11df045",
   "metadata": {
    "tags": []
   },
   "outputs": [],
   "source": [
    "from tensorflow.keras.utils import to_categorical"
   ]
  },
  {
   "cell_type": "code",
   "execution_count": 3,
   "id": "69e6c007-8194-4890-9b9e-4253f68518dd",
   "metadata": {
    "tags": []
   },
   "outputs": [],
   "source": [
    "import numpy\n",
    "import tensorflow as tf\n",
    "import matplotlib.pyplot as plt"
   ]
  },
  {
   "cell_type": "code",
   "execution_count": 7,
   "id": "eee81375-4214-4e42-b3ae-83a6a7a628e3",
   "metadata": {
    "tags": []
   },
   "outputs": [],
   "source": [
    "seed = 0\n",
    "numpy.random.seed(seed)\n",
    "tf.random.set_seed(3)"
   ]
  },
  {
   "cell_type": "markdown",
   "id": "f38719bc-9949-4ccb-b13c-7a1c30f7c541",
   "metadata": {},
   "source": [
    "`[2] 모델 만들기`"
   ]
  },
  {
   "cell_type": "code",
   "execution_count": 8,
   "id": "968a26d2-cb6e-456d-99e2-005f2fbf9f9c",
   "metadata": {
    "tags": []
   },
   "outputs": [
    {
     "name": "stdout",
     "output_type": "stream",
     "text": [
      "Downloading data from https://storage.googleapis.com/tensorflow/tf-keras-datasets/reuters.npz\n",
      "2110848/2110848 [==============================] - 0s 0us/step\n",
      "46 카테고리\n",
      "8982 학습용뉴스\n",
      "2246 테스트용뉴스\n",
      "[1, 2, 2, 8, 43, 10, 447, 5, 25, 207, 270, 5, 2, 111, 16, 369, 186, 90, 67, 7, 89, 5, 19, 102, 6, 19, 124, 15, 90, 67, 84, 22, 482, 26, 7, 48, 4, 49, 8, 864, 39, 209, 154, 6, 151, 6, 83, 11, 15, 22, 155, 11, 15, 7, 48, 9, 2, 2, 504, 6, 258, 6, 272, 11, 15, 22, 134, 44, 11, 15, 16, 8, 197, 2, 90, 67, 52, 29, 209, 30, 32, 132, 6, 109, 15, 17, 12]\n"
     ]
    }
   ],
   "source": [
    "(X_train,Y_train),(X_test,Y_test) = reuters.load_data(num_words=1000, test_split=0.2)\n",
    "category = numpy.max(Y_train) +1\n",
    "print(category,'카테고리')\n",
    "print(len(X_train),'학습용뉴스')\n",
    "print(len(X_test),'테스트용뉴스')\n",
    "print(X_train[0])"
   ]
  },
  {
   "cell_type": "code",
   "execution_count": 10,
   "id": "2655009d-5081-41bc-b511-02f3e246421c",
   "metadata": {
    "tags": []
   },
   "outputs": [],
   "source": [
    "# x_train =sequence.pad_sequences(X_train,maxlen=100)\n",
    "# x_test =sequence.pad_sequences(X_test,maxlen=100)\n",
    "# y_train = np_utils.to_categorical(Y_train) #이전코드\n",
    "# y_test = np_utils.to_categorical(Y_test)\n"
   ]
  },
  {
   "cell_type": "code",
   "execution_count": 9,
   "id": "88dd6935-ada2-4e3c-82da-cf430f17f5a0",
   "metadata": {
    "tags": []
   },
   "outputs": [],
   "source": [
    "from tensorflow.keras.utils import to_categorical\n",
    "\n",
    "x_train = sequence.pad_sequences(X_train, maxlen=100)\n",
    "x_test = sequence.pad_sequences(X_test, maxlen=100)\n",
    "y_train = to_categorical(Y_train)  # np_utils.to_categorical 대신 to_categorical 사용\n",
    "y_test = to_categorical(Y_test)\n"
   ]
  },
  {
   "cell_type": "code",
   "execution_count": 12,
   "id": "fe57e60f-a020-4659-b92c-81b8371d6146",
   "metadata": {
    "tags": []
   },
   "outputs": [
    {
     "name": "stdout",
     "output_type": "stream",
     "text": [
      "Epoch 1/20\n",
      "90/90 [==============================] - 9s 82ms/step - loss: 2.5827 - accuracy: 0.3460 - val_loss: 2.2901 - val_accuracy: 0.3620\n",
      "Epoch 2/20\n",
      "90/90 [==============================] - 7s 78ms/step - loss: 2.3067 - accuracy: 0.3917 - val_loss: 2.0693 - val_accuracy: 0.5036\n",
      "Epoch 3/20\n",
      "90/90 [==============================] - 7s 77ms/step - loss: 2.0138 - accuracy: 0.4958 - val_loss: 1.8937 - val_accuracy: 0.5285\n",
      "Epoch 4/20\n",
      "90/90 [==============================] - 7s 74ms/step - loss: 1.7928 - accuracy: 0.5442 - val_loss: 1.7842 - val_accuracy: 0.5677\n",
      "Epoch 5/20\n",
      "90/90 [==============================] - 7s 74ms/step - loss: 1.6979 - accuracy: 0.5669 - val_loss: 1.7077 - val_accuracy: 0.5628\n",
      "Epoch 6/20\n",
      "90/90 [==============================] - 7s 75ms/step - loss: 1.6262 - accuracy: 0.5826 - val_loss: 1.6480 - val_accuracy: 0.5761\n",
      "Epoch 7/20\n",
      "90/90 [==============================] - 7s 73ms/step - loss: 1.5504 - accuracy: 0.6097 - val_loss: 1.5901 - val_accuracy: 0.6024\n",
      "Epoch 8/20\n",
      "90/90 [==============================] - 7s 75ms/step - loss: 1.4472 - accuracy: 0.6346 - val_loss: 1.4807 - val_accuracy: 0.6238\n",
      "Epoch 9/20\n",
      "90/90 [==============================] - 7s 74ms/step - loss: 1.3671 - accuracy: 0.6525 - val_loss: 1.4441 - val_accuracy: 0.6296\n",
      "Epoch 10/20\n",
      "90/90 [==============================] - 7s 73ms/step - loss: 1.2649 - accuracy: 0.6828 - val_loss: 1.3604 - val_accuracy: 0.6625\n",
      "Epoch 11/20\n",
      "90/90 [==============================] - 7s 74ms/step - loss: 1.1974 - accuracy: 0.6939 - val_loss: 1.3254 - val_accuracy: 0.6652\n",
      "Epoch 12/20\n",
      "90/90 [==============================] - 7s 74ms/step - loss: 1.1243 - accuracy: 0.7096 - val_loss: 1.2726 - val_accuracy: 0.6754\n",
      "Epoch 13/20\n",
      "90/90 [==============================] - 7s 74ms/step - loss: 1.0576 - accuracy: 0.7306 - val_loss: 1.2636 - val_accuracy: 0.6759\n",
      "Epoch 14/20\n",
      "90/90 [==============================] - 7s 74ms/step - loss: 1.0125 - accuracy: 0.7390 - val_loss: 1.2701 - val_accuracy: 0.6768\n",
      "Epoch 15/20\n",
      "90/90 [==============================] - 7s 73ms/step - loss: 0.9626 - accuracy: 0.7554 - val_loss: 1.2027 - val_accuracy: 0.6946\n",
      "Epoch 16/20\n",
      "90/90 [==============================] - 7s 73ms/step - loss: 0.9166 - accuracy: 0.7675 - val_loss: 1.2308 - val_accuracy: 0.6874\n",
      "Epoch 17/20\n",
      "90/90 [==============================] - 7s 73ms/step - loss: 0.8661 - accuracy: 0.7816 - val_loss: 1.1993 - val_accuracy: 0.6968\n",
      "Epoch 18/20\n",
      "90/90 [==============================] - 7s 73ms/step - loss: 0.8367 - accuracy: 0.7877 - val_loss: 1.1866 - val_accuracy: 0.7057\n",
      "Epoch 19/20\n",
      "90/90 [==============================] - 7s 74ms/step - loss: 0.7863 - accuracy: 0.8044 - val_loss: 1.1989 - val_accuracy: 0.7030\n",
      "Epoch 20/20\n",
      "90/90 [==============================] - 7s 73ms/step - loss: 0.7522 - accuracy: 0.8096 - val_loss: 1.2209 - val_accuracy: 0.7075\n"
     ]
    }
   ],
   "source": [
    "model = Sequential()\n",
    "model.add(Embedding(1000,100))\n",
    "model.add(LSTM(100,activation='tanh'))\n",
    "model.add(Dense(46,activation='softmax'))\n",
    "\n",
    "model.compile(loss='categorical_crossentropy',\n",
    "              optimizer='adam',\n",
    "              metrics=['accuracy'])\n",
    "\n",
    "history = model.fit(x_train,y_train,batch_size=100,epochs=20,validation_data=(x_test,y_test))"
   ]
  },
  {
   "cell_type": "code",
   "execution_count": 14,
   "id": "e1794376-68c5-4cce-a0da-edf99d4f9967",
   "metadata": {
    "tags": []
   },
   "outputs": [
    {
     "name": "stdout",
     "output_type": "stream",
     "text": [
      "71/71 [==============================] - 1s 11ms/step - loss: 1.2209 - accuracy: 0.7075\n",
      "\n",
      " Test Accuracy: 0.7075\n"
     ]
    },
    {
     "data": {
      "image/png": "[encoded data removed]",
      "text/plain": [
       "<Figure size 640x480 with 1 Axes>"
      ]
     },
     "metadata": {},
     "output_type": "display_data"
    }
   ],
   "source": [
    "print(\"\\n Test Accuracy: %.4f\" % (model.evaluate(x_test,y_test)[1]))\n",
    "\n",
    "y_vloss = history.history['val_loss']\n",
    "y_loss = history.history['loss']\n",
    "\n",
    "x_len = numpy.arange(len(y_loss))\n",
    "plt.plot(x_len,y_vloss,marker='.' , c=\"red\",label='Tesset_loss')\n",
    "\n",
    "plt.plot(x_len,y_loss,marker='.' , c=\"blue\" , label='Trainset_loss')\n",
    "\n",
    "plt.legend(loc='upper right')\n",
    "plt.grid()\n",
    "plt.xlabel('epoch')\n",
    "plt.ylabel('loss')\n",
    "plt.show()"
   ]
  },
  {
   "cell_type": "code",
   "execution_count": 15,
   "id": "4ef2167f-35f5-4c7c-862a-555a520f431e",
   "metadata": {
    "tags": []
   },
   "outputs": [],
   "source": [
    "# 테스트오차가 올라가기직전에 끊어서 earlystopping 을 수동적으로 잘 했다고 볼 수 있다!"
   ]
  },
  {
   "cell_type": "markdown",
   "id": "aab6839d-9123-468e-8aa0-623e952f95ee",
   "metadata": {
    "tags": []
   },
   "source": [
    "- Embedding(1000,100) 은 [6] 에서 언급했 듯 1000차원을 100차원으로 축소시킨것\n",
    "- 100차원에서 LSTM 을 이용한 RNN 으로 오차역전파를 사용하며 각각의 노드를 학습\n",
    "- Dense 는 fullyconnected 를 의미하며 풀리커넥티드 46 node 로 layer 층을 softmax 시키기"
   ]
  },
  {
   "cell_type": "code",
   "execution_count": null,
   "id": "fc8bab3f-ca6a-4364-81d4-33d6ec75ece4",
   "metadata": {},
   "outputs": [],
   "source": []
  }
 ],
 "metadata": {
  "kernelspec": {
   "display_name": "Python (hf)",
   "language": "python",
   "name": "hf"
  },
  "language_info": {
   "codemirror_mode": {
    "name": "ipython",
    "version": 3
   },
   "file_extension": ".py",
   "mimetype": "text/x-python",
   "name": "python",
   "nbconvert_exporter": "python",
   "pygments_lexer": "ipython3",
   "version": "3.10.13"
  }
 },
 "nbformat": 4,
 "nbformat_minor": 5
}
